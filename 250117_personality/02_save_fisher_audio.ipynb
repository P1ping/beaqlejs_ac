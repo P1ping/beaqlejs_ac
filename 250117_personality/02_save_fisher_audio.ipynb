{
 "cells": [
  {
   "cell_type": "code",
   "execution_count": null,
   "id": "0",
   "metadata": {},
   "outputs": [],
   "source": [
    "# !pip3 install chardet -i https://mirrors.aliyun.com/pypi/simple/"
   ]
  },
  {
   "cell_type": "code",
   "execution_count": null,
   "id": "1",
   "metadata": {},
   "outputs": [],
   "source": [
    "import glob\n",
    "import os\n",
    "from tqdm import tqdm\n",
    "import numpy as np\n",
    "import shutil\n",
    "import librosa\n",
    "\n",
    "import soundfile as sf\n",
    "from scipy.io import wavfile\n",
    "def save_audio(path, y, fs):\n",
    "    sf.write(path, y.T, fs, \"PCM_16\")\n",
    "    # librosa.output.write\n",
    "    # wavfile.write(path, fs, y)\n",
    "    \n",
    "import sys\n",
    "sys.path.append(\"./../../cuhksz-phd/sho_util/pyfiles\")\n",
    "from sound import play_audio"
   ]
  },
  {
   "cell_type": "markdown",
   "id": "2",
   "metadata": {},
   "source": [
    "# MUSHRA"
   ]
  },
  {
   "cell_type": "code",
   "execution_count": null,
   "id": "3",
   "metadata": {},
   "outputs": [],
   "source": [
    "base_dir = \"../../Dataset/Fisher_audio/000/\"\n",
    "save_base_dir = \"./audio/\""
   ]
  },
  {
   "cell_type": "code",
   "execution_count": null,
   "id": "4",
   "metadata": {},
   "outputs": [],
   "source": [
    "files = glob.glob(base_dir+\"*\")\n",
    "files.sort()\n",
    "rep = 4\n",
    "n = len(files) "
   ]
  },
  {
   "cell_type": "code",
   "execution_count": null,
   "id": "5",
   "metadata": {},
   "outputs": [],
   "source": [
    "startdir = {}\n",
    "for idx in range(n):\n",
    "    np.random.seed(idx)\n",
    "    startdir[idx] = list(np.random.choice(np.array([2, 4, 6, 8]), replace=False, size=rep))\n",
    "idxlist = []\n",
    "for i in range(rep):\n",
    "    np.random.seed(i)\n",
    "    idxlist += list(np.random.choice(np.arange(n), replace=False, size=n))\n",
    "    \n",
    "each = 19\n",
    "alldata = []\n",
    "data = []\n",
    "count = 0\n",
    "for idx in idxlist:\n",
    "    data += [[idx, startdir[idx].pop(0)]]\n",
    "    count += 1\n",
    "    if count==each:\n",
    "        alldata += [data]\n",
    "        data = []\n",
    "        count = 0"
   ]
  },
  {
   "cell_type": "code",
   "execution_count": null,
   "id": "6",
   "metadata": {},
   "outputs": [],
   "source": [
    "name = '14'\n",
    "fileid = 'fe_03_00014'\n",
    "fnidx = filenames.index(fileid)\n",
    "[array[1] for array in alldata[int(name)] if array[0]==fnidx][0]"
   ]
  },
  {
   "cell_type": "code",
   "execution_count": null,
   "id": "7",
   "metadata": {},
   "outputs": [],
   "source": [
    "alldata"
   ]
  },
  {
   "cell_type": "code",
   "execution_count": null,
   "id": "8",
   "metadata": {},
   "outputs": [],
   "source": [
    "filenames"
   ]
  },
  {
   "cell_type": "code",
   "execution_count": null,
   "id": "9",
   "metadata": {},
   "outputs": [],
   "source": [
    "save = True\n",
    "dur = 90\n",
    "for b in tqdm(range(len(alldata))):\n",
    "    batch = alldata[b]\n",
    "    for array in batch:\n",
    "        idx, start = array\n",
    "        path = files[idx]\n",
    "        fn = path.split(\"/\")[-1].split(\".\")[0]\n",
    "        \n",
    "        save_dir = save_base_dir + f\"{b}/{fn}/\"\n",
    "        \n",
    "        audio, fs = librosa.load(path, sr=None, mono=True)\n",
    "        s = start*60*fs\n",
    "        e = s+fs*90\n",
    "        audio = audio[s:e]\n",
    "        savepath = save_dir + \"mono.wav\"\n",
    "        if save:\n",
    "            os.makedirs(os.path.dirname(savepath), exist_ok=True)\n",
    "            save_audio(savepath, audio, fs)\n",
    "        \n",
    "        audio, fs = librosa.load(path, sr=None, mono=False)\n",
    "        s = start*60*fs\n",
    "        e = s+fs*90\n",
    "        audio = audio[:, s:e]\n",
    "        savepath = save_dir + \"stereo.wav\"\n",
    "        if save:\n",
    "            os.makedirs(os.path.dirname(savepath), exist_ok=True)\n",
    "            save_audio(savepath, audio, fs)\n",
    "            \n",
    "        for spk in range(2):\n",
    "            segment = audio[spk]\n",
    "            savepath = save_dir + str(spk) + \".wav\"\n",
    "            if save:\n",
    "                os.makedirs(os.path.dirname(savepath), exist_ok=True)\n",
    "                save_audio(savepath, segment, fs)"
   ]
  },
  {
   "cell_type": "code",
   "execution_count": null,
   "id": "10",
   "metadata": {},
   "outputs": [],
   "source": [
    "savepath = save_dir + \"both.wav\"\n",
    "audio, fs = librosa.load(savepath, sr=None, mono=False)\n",
    "play_audio(audio, fs)"
   ]
  },
  {
   "cell_type": "code",
   "execution_count": null,
   "id": "11",
   "metadata": {},
   "outputs": [],
   "source": []
  },
  {
   "cell_type": "code",
   "execution_count": null,
   "id": "12",
   "metadata": {},
   "outputs": [],
   "source": []
  },
  {
   "cell_type": "code",
   "execution_count": null,
   "id": "13",
   "metadata": {},
   "outputs": [],
   "source": [
    "save_path"
   ]
  },
  {
   "cell_type": "code",
   "execution_count": null,
   "id": "14",
   "metadata": {},
   "outputs": [],
   "source": []
  },
  {
   "cell_type": "code",
   "execution_count": null,
   "id": "15",
   "metadata": {},
   "outputs": [],
   "source": []
  },
  {
   "cell_type": "code",
   "execution_count": null,
   "id": "16",
   "metadata": {},
   "outputs": [],
   "source": []
  },
  {
   "cell_type": "code",
   "execution_count": null,
   "id": "17",
   "metadata": {},
   "outputs": [],
   "source": [
    "li"
   ]
  },
  {
   "cell_type": "code",
   "execution_count": null,
   "id": "18",
   "metadata": {},
   "outputs": [],
   "source": []
  },
  {
   "cell_type": "code",
   "execution_count": null,
   "id": "19",
   "metadata": {},
   "outputs": [],
   "source": [
    "fn"
   ]
  },
  {
   "cell_type": "code",
   "execution_count": null,
   "id": "20",
   "metadata": {},
   "outputs": [],
   "source": []
  },
  {
   "cell_type": "code",
   "execution_count": null,
   "id": "21",
   "metadata": {},
   "outputs": [],
   "source": []
  },
  {
   "cell_type": "code",
   "execution_count": null,
   "id": "22",
   "metadata": {},
   "outputs": [],
   "source": [
    "batch"
   ]
  }
 ],
 "metadata": {
  "kernelspec": {
   "display_name": "Python 3 (ipykernel)",
   "language": "python",
   "name": "python3"
  },
  "language_info": {
   "codemirror_mode": {
    "name": "ipython",
    "version": 3
   },
   "file_extension": ".py",
   "mimetype": "text/x-python",
   "name": "python",
   "nbconvert_exporter": "python",
   "pygments_lexer": "ipython3",
   "version": "3.9.6"
  }
 },
 "nbformat": 4,
 "nbformat_minor": 5
}
